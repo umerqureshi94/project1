{
 "cells": [
  {
   "cell_type": "code",
   "execution_count": 1,
   "metadata": {},
   "outputs": [
    {
     "name": "stdin",
     "output_type": "stream",
     "text": [
      "Enter First no:  20\n",
      "Enter Second no:  30\n"
     ]
    },
    {
     "name": "stdout",
     "output_type": "stream",
     "text": [
      "Enter the desired operation + - * / or add sub mul dvd\n"
     ]
    },
    {
     "name": "stdin",
     "output_type": "stream",
     "text": [
      "Enter operator  +\n"
     ]
    },
    {
     "name": "stdout",
     "output_type": "stream",
     "text": [
      "50\n"
     ]
    }
   ],
   "source": [
    "num1=int(input(\"Enter First no: \"))\n",
    "num2=int(input(\"Enter Second no: \"))\n",
    "print(\"Enter the desired operation + - * / or add sub mul dvd\")\n",
    "op=(input(\"Enter operator \"))\n",
    "if (op == '+' or op == 'add'):\n",
    "   print (num1+num2)\n",
    "elif(op == '-' or op == 'sub'):\n",
    "   print (num1-num2)\n",
    "elif(op == '*' or op == 'mul'):\n",
    "   print (num1*num2)\n",
    "elif(op == '/' or op == 'dvd'):\n",
    "   print (num1/num2)\n",
    "elif(op == '^' or op == 'pow'):\n",
    "   print (pow(num1,num2))\n",
    "else:\n",
    "   print (\"Wrong operator\") "
   ]
  },
  {
   "cell_type": "code",
   "execution_count": 24,
   "metadata": {},
   "outputs": [
    {
     "name": "stdout",
     "output_type": "stream",
     "text": [
      "no numeric values\n",
      "no numeric values\n",
      "numeric value found\n",
      "no numeric values\n",
      "no numeric values\n",
      "no numeric values\n",
      "no numeric values\n"
     ]
    }
   ],
   "source": [
    "a = ['ali', 'umer', '4','Aqeel','Wasim','8','Sherry']\n",
    "   \n",
    "for i in a:\n",
    "     if (i == '4'):\n",
    "      print('numeric value found')\n",
    "     else:\n",
    "       print ('no numeric values')"
   ]
  },
  {
   "cell_type": "code",
   "execution_count": 25,
   "metadata": {},
   "outputs": [
    {
     "name": "stdout",
     "output_type": "stream",
     "text": [
      "{0: 10, 1: 20}\n",
      "{0: 10, 1: 20, 2: 50}\n",
      "{0: 10, 1: 20, 2: 50, 3: 51}\n",
      "{0: 10, 1: 20, 2: 50, 3: 51, 4: 52}\n",
      "{0: 10, 1: 20, 2: 50, 3: 51, 4: 52, 5: 53}\n",
      "{0: 10, 1: 20, 2: 50, 3: 51, 4: 52, 5: 53, 6: 54}\n",
      "{0: 10, 1: 20, 2: 50, 3: 51, 4: 52, 5: 53, 6: 54, 7: 55}\n"
     ]
    }
   ],
   "source": [
    "d = {0:10, 1:20}\n",
    "print(d)\n",
    "d.update({2:50})\n",
    "print(d)\n",
    "d.update({3:51})\n",
    "print(d)\n",
    "d.update({4:52})\n",
    "print(d)\n",
    "d.update({5:53})\n",
    "print(d)\n",
    "d.update({6:54})\n",
    "print(d)\n",
    "d.update({7:55})\n",
    "print(d)"
   ]
  },
  {
   "cell_type": "code",
   "execution_count": 26,
   "metadata": {},
   "outputs": [
    {
     "name": "stdout",
     "output_type": "stream",
     "text": [
      "Sum : 600\n"
     ]
    }
   ],
   "source": [
    "def returnSum(myDict): \n",
    "      \n",
    "    sum = 0\n",
    "    for i in myDict: \n",
    "        sum = sum + myDict[i] \n",
    "      \n",
    "    return sum\n",
    "  \n",
    "\n",
    "dict = {'a': 100, 'b':200, 'c':300} \n",
    "print(\"Sum :\", returnSum(dict)) "
   ]
  },
  {
   "cell_type": "code",
   "execution_count": 27,
   "metadata": {},
   "outputs": [
    {
     "name": "stdout",
     "output_type": "stream",
     "text": [
      "[20, 30, -20, 60]\n"
     ]
    }
   ],
   "source": [
    "def Repeat(x): \n",
    "    _size = len(x) \n",
    "    repeated = [] \n",
    "    for i in range(_size): \n",
    "        k = i + 1\n",
    "        for j in range(k, _size): \n",
    "            if x[i] == x[j] and x[i] not in repeated: \n",
    "                repeated.append(x[i]) \n",
    "    return repeated\n",
    "\n",
    "list1 = [10, 20, 30, 20, 20, 30, 40,  \n",
    "         50, -20, 60, 60, -20, -20] \n",
    "print (Repeat(list1))"
   ]
  },
  {
   "cell_type": "code",
   "execution_count": 28,
   "metadata": {},
   "outputs": [
    {
     "name": "stdin",
     "output_type": "stream",
     "text": [
      "Enter No:  10\n"
     ]
    },
    {
     "name": "stdout",
     "output_type": "stream",
     "text": [
      "Key is not present in the dictionary\n",
      "None\n"
     ]
    }
   ],
   "source": [
    "d = {1: 10, 2: 20, 3: 30, 4: 40, 5: 50, 6: 60}\n",
    "def is_key_present(x):\n",
    "  if x in d:\n",
    "      print('Key is present in the dictionary')\n",
    "  else:\n",
    "      print('Key is not present in the dictionary')\n",
    "x=int(input(\"Enter No: \"))\n",
    "print (is_key_present(x))"
   ]
  },
  {
   "cell_type": "code",
   "execution_count": null,
   "metadata": {},
   "outputs": [],
   "source": []
  }
 ],
 "metadata": {
  "kernelspec": {
   "display_name": "Python 3",
   "language": "python",
   "name": "python3"
  },
  "language_info": {
   "codemirror_mode": {
    "name": "ipython",
    "version": 3
   },
   "file_extension": ".py",
   "mimetype": "text/x-python",
   "name": "python",
   "nbconvert_exporter": "python",
   "pygments_lexer": "ipython3",
   "version": "3.7.4"
  }
 },
 "nbformat": 4,
 "nbformat_minor": 4
}
